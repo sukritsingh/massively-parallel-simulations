{
 "cells": [
  {
   "cell_type": "code",
   "execution_count": 7,
   "metadata": {},
   "outputs": [],
   "source": [
    "import numpy as np\n",
    "import matplotlib.pyplot as plt"
   ]
  },
  {
   "cell_type": "code",
   "execution_count": 8,
   "metadata": {},
   "outputs": [],
   "source": [
    "# plotting settings\n",
    "# ensure all plots have white backgrounds and no transparent axes\n",
    "plt.rcParams['axes.facecolor'] = 'white'\n",
    "\n",
    "\n",
    "plt.rcParams['font.family'] = 'serif'\n",
    "plt.rcParams['font.serif'] = 'Ubuntu'\n",
    "plt.rcParams['font.monospace'] = 'Ubuntu Mono'\n",
    "plt.rcParams['font.size'] = 20\n",
    "plt.rcParams['axes.labelsize'] = 22\n",
    "plt.rcParams['axes.labelweight'] = 'bold'\n",
    "plt.rcParams['axes.linewidth'] = 3\n",
    "plt.rcParams['axes.titlesize'] = 19\n",
    "plt.rcParams['axes.labelpad'] = 15\n",
    "plt.rcParams['xtick.labelsize'] = 19\n",
    "plt.rcParams['ytick.labelsize'] = 19\n",
    "plt.rcParams['legend.fontsize'] = 25\n",
    "plt.rcParams['figure.titlesize'] = 19\n",
    "plt.rcParams['figure.figsize'] = (8,8)\n",
    "plt.rcParams['lines.linewidth'] = 3\n",
    "plt.rcParams['figure.facecolor'] = 'white'\n",
    "plt.rcParams['errorbar.capsize'] = 3.0"
   ]
  },
  {
   "cell_type": "code",
   "execution_count": 2,
   "metadata": {},
   "outputs": [],
   "source": [
    "\n",
    "# Number of steps and states\n",
    "num_steps = 50  # Adjust this to control the length of the walk\n",
    "num_states = 10"
   ]
  },
  {
   "cell_type": "code",
   "execution_count": 84,
   "metadata": {},
   "outputs": [],
   "source": [
    "\n",
    "# Function to generate a random walk\n",
    "def random_walk(num_steps, num_states):\n",
    "    steps = np.random.choice([-1, 1], size=num_steps)\n",
    "    walk = np.cumsum(steps) + 1\n",
    "    walk = np.clip(walk, 1, num_states)  # Constrain the walk within the state limits\n",
    "    return walk"
   ]
  },
  {
   "cell_type": "code",
   "execution_count": 85,
   "metadata": {},
   "outputs": [],
   "source": [
    "# Function to generate a random walk with reduced zero-movement steps\n",
    "def biased_random_walk(num_steps, num_states):\n",
    "    walk = np.zeros(num_steps, dtype=int)\n",
    "    walk[0] = np.random.randint(1, num_states+1)  # Start at a random state\n",
    "    for i in range(1, num_steps):\n",
    "        move = np.random.choice([-1, 1])\n",
    "        next_state = walk[i-1] + move\n",
    "        if next_state < 1 or next_state > num_states:\n",
    "            next_state = walk[i-1]  # Stay in the same state if we would go out of bounds\n",
    "        walk[i] = next_state\n",
    "    return walk"
   ]
  },
  {
   "cell_type": "code",
   "execution_count": 92,
   "metadata": {},
   "outputs": [],
   "source": [
    "\n",
    "# Generate three random walks\n",
    "np.random.seed(270691)  # Seed 1\n",
    "# np.random.seed(1337)\n",
    "walk1 = biased_random_walk(num_steps, num_states)\n",
    "walk2 = biased_random_walk(num_steps, num_states)\n",
    "walk3 = biased_random_walk(num_steps, num_states)"
   ]
  },
  {
   "cell_type": "code",
   "execution_count": 93,
   "metadata": {},
   "outputs": [],
   "source": [
    "# Function to smooth the random walk\n",
    "def smooth_walk(walk, window_size=3):\n",
    "    return np.convolve(walk, np.ones(window_size)/window_size, mode='same')"
   ]
  },
  {
   "cell_type": "code",
   "execution_count": 94,
   "metadata": {},
   "outputs": [],
   "source": [
    "# Apply smoothing to the walks\n",
    "smooth_walk1 = smooth_walk(walk1)\n",
    "smooth_walk2 = smooth_walk(walk2)\n",
    "smooth_walk3 = smooth_walk(walk3)"
   ]
  },
  {
   "cell_type": "code",
   "execution_count": 95,
   "metadata": {},
   "outputs": [
    {
     "data": {
      "image/png": "[encoded data removed]",
      "text/plain": [
       "<Figure size 720x720 with 1 Axes>"
      ]
     },
     "metadata": {},
     "output_type": "display_data"
    },
    {
     "data": {
      "text/plain": [
       "<Figure size 576x576 with 0 Axes>"
      ]
     },
     "metadata": {},
     "output_type": "display_data"
    }
   ],
   "source": [
    "\n",
    "# Plotting\n",
    "plt.figure(figsize=(10, 10))\n",
    "time = np.arange(num_steps)\n",
    "\n",
    "plt.step(time, smooth_walk1, where='mid', color=\"black\")\n",
    "plt.step(time, smooth_walk2, where='mid', color=\"#0652ff\")\n",
    "plt.step(time, smooth_walk3, where='mid', color=\"#fe4b03\")\n",
    "\n",
    "plt.xlabel('Time')\n",
    "plt.ylabel('State')\n",
    "plt.ylim(1, num_states+1)\n",
    "plt.xlim(0, num_steps)\n",
    "# plt.legend(frameon=False)\n",
    "plt.grid(False)\n",
    "plt.show()\n",
    "plt.savefig(\"figures/three-random-walks.png\", dpi=300)\n"
   ]
  }
 ],
 "metadata": {
  "kernelspec": {
   "display_name": "base",
   "language": "python",
   "name": "python3"
  },
  "language_info": {
   "codemirror_mode": {
    "name": "ipython",
    "version": 3
   },
   "file_extension": ".py",
   "mimetype": "text/x-python",
   "name": "python",
   "nbconvert_exporter": "python",
   "pygments_lexer": "ipython3",
   "version": "3.9.7"
  }
 },
 "nbformat": 4,
 "nbformat_minor": 2
}
